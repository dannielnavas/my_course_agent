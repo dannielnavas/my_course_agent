{
 "cells": [
  {
   "cell_type": "code",
   "execution_count": null,
   "id": "97858b9a",
   "metadata": {},
   "outputs": [
    {
     "name": "stdout",
     "output_type": "stream",
     "text": [
      "    # Instricciones para el asistente de IA\n",
      "\n",
      "    Recuerda que hoy es 24 de octubre de 2025\n",
      "\n",
      "    ## Rol\n",
      "    Eres un experto en marketing digital con 10 años de experiencia.\n",
      "\n",
      "    ## Tarea\n",
      "    Analiza el siguiente texto de un anuncio y proporciona 3 sugerencias para mejorarlo, enfocandote en el llamado a la accion.\n",
      "\n",
      "    ## Texto del anuncio\n",
      "    Este es un anuncio de pruebaz\n",
      "\n",
      "    ## Formato de salida\n",
      "    - *Sugerencia 1:* [Tu primera sugerencia]\n",
      "    - *Sugerencia 2:* [Tu segunda sugerencia]\n",
      "    - *Sugerencia 3:* [Tu tercera sugerencia]\n",
      "\n"
     ]
    }
   ],
   "source": [
    "from langchain_core.prompts import PromptTemplate\n",
    "\n",
    "template = \"\"\"\\\n",
    "    # Instricciones para el asistente de IA\n",
    "\n",
    "    Recuerda que hoy es {fecha_actual}\n",
    "\n",
    "    ## Rol\n",
    "    Eres un experto en marketing digital con 10 años de experiencia.\n",
    "\n",
    "    ## Tarea\n",
    "    Analiza el siguiente texto de un anuncio y proporciona 3 sugerencias para mejorarlo, enfocandote en el llamado a la accion.\n",
    "\n",
    "    ## Texto del anuncio\n",
    "    {texto_anuncio}\n",
    "\n",
    "    ## Formato de salida\n",
    "    - *Sugerencia 1:* [Tu primera sugerencia]\n",
    "    - *Sugerencia 2:* [Tu segunda sugerencia]\n",
    "    - *Sugerencia 3:* [Tu tercera sugerencia]\n",
    "\"\"\"\n",
    "\n",
    "prompt_template = PromptTemplate.from_template(template)\n",
    "prompt = prompt_template.format(fecha_actual=\"24 de octubre de 2025\", texto_anuncio=\"Este es un anuncio de prueba\")\n",
    "print(prompt)"
   ]
  }
 ],
 "metadata": {
  "kernelspec": {
   "display_name": ".venv",
   "language": "python",
   "name": "python3"
  },
  "language_info": {
   "codemirror_mode": {
    "name": "ipython",
    "version": 3
   },
   "file_extension": ".py",
   "mimetype": "text/x-python",
   "name": "python",
   "nbconvert_exporter": "python",
   "pygments_lexer": "ipython3",
   "version": "3.11.14"
  }
 },
 "nbformat": 4,
 "nbformat_minor": 5
}
