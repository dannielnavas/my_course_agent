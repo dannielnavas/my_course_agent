{
 "cells": [
  {
   "cell_type": "code",
   "execution_count": 1,
   "id": "17e8deba",
   "metadata": {},
   "outputs": [
    {
     "data": {
      "text/plain": [
       "True"
      ]
     },
     "execution_count": 1,
     "metadata": {},
     "output_type": "execute_result"
    }
   ],
   "source": [
    "from dotenv import load_dotenv\n",
    "import os\n",
    "\n",
    "load_dotenv()\n"
   ]
  },
  {
   "cell_type": "code",
   "execution_count": 11,
   "id": "174917ee",
   "metadata": {},
   "outputs": [],
   "source": [
    "from langchain.chat_models import  init_chat_model\n",
    "\n",
    "llm = init_chat_model(\n",
    "    \"gpt-4o-mini\",\n",
    "    temperature=0,\n",
    ")\n"
   ]
  },
  {
   "cell_type": "code",
   "execution_count": 12,
   "id": "844c71b8",
   "metadata": {},
   "outputs": [],
   "source": [
    "openai_vector_store_ids = [\n",
    "    \"vs_68fa19c8385881918734a172b75bd5ff\"\n",
    "]\n",
    "\n",
    "file_search_tool = {\n",
    "    \"type\": \"file_search\",\n",
    "    \"vector_store_ids\": openai_vector_store_ids,\n",
    "}\n",
    "\n",
    "llm_with_tools = llm.bind_tools([file_search_tool])"
   ]
  },
  {
   "cell_type": "code",
   "execution_count": 14,
   "id": "2588dc78",
   "metadata": {},
   "outputs": [
    {
     "data": {
      "text/plain": [
       "'Para mejorar el rendimiento de tu website, aquí tienes algunas estrategias efectivas:\\n\\n1. **Optimización de Imágenes**: Asegúrate de que las imágenes estén correctamente dimensionadas y utiliza formatos de próxima generación (como WebP) para reducir el tamaño de los archivos.\\n\\n2. **Eliminación de Recursos que Bloquean el Renderizado**: Identifica y elimina scripts o estilos que impidan que la página se cargue rápidamente.\\n\\n3. **Minificación de JavaScript y CSS**: Reduce el tamaño de tus archivos JavaScript y CSS eliminando espacios en blanco y comentarios innecesarios.\\n\\n4. **Compresión de Texto**: Habilita la compresión de texto (como Gzip) para reducir el tamaño de los archivos que se envían al navegador.\\n\\n5. **Uso de AMP (Accelerated Mobile Pages)**: Considera implementar AMP para crear páginas que se carguen casi instantáneamente en dispositivos móviles.\\n\\n6. **Establecimiento de un Presupuesto de Rendimiento**: Define límites en métricas clave de rendimiento y asegúrate de cumplirlos durante el desarrollo.\\n\\n7. **Herramientas de Medición**: Utiliza herramientas como Lighthouse, PageSpeed Insights y WebPageTest para evaluar y mejorar el rendimiento de tu sitio.\\n\\nImplementar estas prácticas no solo mejorará la velocidad de carga de tu sitio, sino que también puede aumentar la satisfacción del usuario y las tasas de conversión.'"
      ]
     },
     "execution_count": 14,
     "metadata": {},
     "output_type": "execute_result"
    }
   ],
   "source": [
    "response = llm_with_tools.invoke(\"Como mejoro el rendimiento de mi webside?\")\n",
    "response.text"
   ]
  }
 ],
 "metadata": {
  "kernelspec": {
   "display_name": ".venv",
   "language": "python",
   "name": "python3"
  },
  "language_info": {
   "codemirror_mode": {
    "name": "ipython",
    "version": 3
   },
   "file_extension": ".py",
   "mimetype": "text/x-python",
   "name": "python",
   "nbconvert_exporter": "python",
   "pygments_lexer": "ipython3",
   "version": "3.11.14"
  }
 },
 "nbformat": 4,
 "nbformat_minor": 5
}
