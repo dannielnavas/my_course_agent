{
 "cells": [
  {
   "cell_type": "code",
   "execution_count": 1,
   "id": "2351f1d5",
   "metadata": {},
   "outputs": [
    {
     "data": {
      "text/plain": [
       "True"
      ]
     },
     "execution_count": 1,
     "metadata": {},
     "output_type": "execute_result"
    }
   ],
   "source": [
    "from dotenv import load_dotenv\n",
    "load_dotenv()"
   ]
  },
  {
   "cell_type": "code",
   "execution_count": 3,
   "id": "fefd0b0d",
   "metadata": {},
   "outputs": [
    {
     "name": "stderr",
     "output_type": "stream",
     "text": [
      "WARNING: All log messages before absl::InitializeLog() is called are written to STDERR\n",
      "E0000 00:00:1761653230.441525    4954 alts_credentials.cc:93] ALTS creds ignored. Not running on GCP and untrusted ALTS is not enabled.\n"
     ]
    },
    {
     "data": {
      "text/plain": [
       "'Hola, estoy muy bien, gracias. ¿Y tú, cómo estás?'"
      ]
     },
     "execution_count": 3,
     "metadata": {},
     "output_type": "execute_result"
    }
   ],
   "source": [
    "from langchain.chat_models import init_chat_model\n",
    "\n",
    "model = init_chat_model(\n",
    "    \"gemini-2.5-flash\",\n",
    "    model_provider=\"google_genai\",\n",
    "    temperature=0,\n",
    ")\n",
    "response = model.invoke(\"Hola como estas?\")\n",
    "response.text\n"
   ]
  },
  {
   "cell_type": "code",
   "execution_count": 5,
   "id": "614882fe",
   "metadata": {},
   "outputs": [
    {
     "name": "stdout",
     "output_type": "stream",
     "text": [
      "==================================\u001b[1m Ai Message \u001b[0m==================================\n",
      "\n",
      "Bogotá tiene un clima **frío de alta montaña**, caracterizado por ser fresco a frío durante todo el año, con temperaturas que no varían mucho entre estaciones.\n",
      "\n",
      "Aquí te detallo sus características principales:\n",
      "\n",
      "1.  **Temperaturas:**\n",
      "    *   Las temperaturas promedio oscilan entre los **8°C y 19°C**.\n",
      "    *   Durante el día, suele ser fresco, con promedios de 14-18°C.\n",
      "    *   Por la noche, las temperaturas bajan considerablemente, pudiendo llegar a los 5-10°C.\n",
      "    *   Rara vez hace mucho calor o mucho frío extremo (bajo cero).\n",
      "\n",
      "2.  **Lluvias:**\n",
      "    *   Es una ciudad con **frecuentes lluvias**, que pueden ser lloviznas persistentes o aguaceros fuertes.\n",
      "    *   Tiene dos temporadas de lluvias principales:\n",
      "        *   De **marzo a mayo**.\n",
      "        *   De **septiembre a noviembre**.\n",
      "    *   Las temporadas \"secas\" (diciembre-febrero y junio-agosto) suelen tener menos lluvia, pero aún así pueden presentarse precipitaciones esporádicas.\n",
      "\n",
      "3.  **Cielo:**\n",
      "    *   El cielo suele estar **nublado** o parcialmente nublado.\n",
      "    *   Cuando sale el sol, puede ser bastante intenso debido a la altitud (aproximadamente 2640 metros sobre el nivel del mar).\n",
      "\n",
      "4.  **Sensación térmica:**\n",
      "    *   Muchos lo describen como una **primavera u otoño eterno**, pero con un componente de humedad y lluvia constante.\n",
      "\n",
      "**En resumen:** Si vas a Bogotá, siempre es recomendable llevar **ropa abrigada (capas), un impermeable o paraguas**, sin importar la época del año. El clima puede cambiar rápidamente, pasando de un sol radiante a una llovizna fría en cuestión de horas.\n"
     ]
    }
   ],
   "source": [
    "response = model.invoke(\"Que clima hace en la ciudad de Bogota? \")\n",
    "response.pretty_print()"
   ]
  },
  {
   "cell_type": "code",
   "execution_count": 7,
   "id": "c0b4174b",
   "metadata": {},
   "outputs": [
    {
     "name": "stdout",
     "output_type": "stream",
     "text": [
      "==================================\u001b[1m Ai Message \u001b[0m==================================\n",
      "\n",
      "¡Claro! En nuestra tienda, ofrecemos una amplia gama de productos para mejorar tu experiencia de juego. Aquí tienes lo que tenemos disponible:\n",
      "\n",
      "*   **Computadora Gamer**\n",
      "*   **Mouse Gamer**\n",
      "*   **Teclado Gamer**\n",
      "*   **Auriculares Gamer**\n",
      "*   **Mousepad Gamer**\n",
      "*   **Silla Gamer**\n",
      "\n",
      "¿Hay algún producto en particular que te interese o te gustaría saber más sobre alguno de ellos?\n"
     ]
    }
   ],
   "source": [
    "system_prompt = \"\"\"\n",
    "Eres un asistente de ventas que ayuda a los clientes a encontrar los productos que necesitan.\n",
    "\n",
    "Y tus productos son:\n",
    "\n",
    "- Computadora Gamer\n",
    "- Mouse Gamer\n",
    "- Teclado Gamer\n",
    "- Auriculares Gamer\n",
    "- Mousepad Gamer\n",
    "- Silla Gamer\n",
    "\"\"\"\n",
    "messages = [\n",
    "    (\"system\", system_prompt),\n",
    "    (\"user\", \"Dime los productos que ofreces en la tienda?\")\n",
    "]\n",
    "response = model.invoke(messages)\n",
    "response.pretty_print()\n"
   ]
  },
  {
   "cell_type": "code",
   "execution_count": 24,
   "id": "cf50bca7",
   "metadata": {},
   "outputs": [],
   "source": [
    "from langchain.tools import tool\n",
    "import requests\n",
    "\n",
    "@tool(\"get_products\", description=\"Devuelve los productos que ofrece la tienda y su precio\")\n",
    "def get_products():\n",
    "    \"\"\"Devuelve los productos que ofrece la tienda\"\"\"\n",
    "    response = requests.get(f\"https://api.escuelajs.co/api/v1/products\")\n",
    "    products = response.json()\n",
    "    return \"\\n\".join([f\"{product['title']} - {product['price']}\" for product in products])\n"
   ]
  },
  {
   "cell_type": "code",
   "execution_count": 25,
   "id": "aa1b0132",
   "metadata": {},
   "outputs": [
    {
     "data": {
      "text/plain": [
       "'Futuristic Holographic Soccer Cleats - 39\\nRainbow Glitter High Heels - 39\\nChic Summer Denim Espadrille Sandals - 33\\nVibrant Pink Classic Sneakers - 84\\nFuturistic Chic High-Heel Boots - 36\\nElegant Purple Leather Loafers - 17\\nClassic Blue Suede Casual Shoes - 39\\nSleek Futuristic Electric Bicycle - 22\\nRadiant Citrus Eau de Parfum - 73\\nSleek Olive Green Hardshell Carry-On Luggage - 48\\nTrendy Pink-Tinted Sunglasses - 38\\nstring - 100\\nGulab jamun 1 kg - 300\\ntes - 22\\nParfum - 22\\nParfum Cologne - 18\\nAPITestProduct - 123\\nTest Product 123 - 123\\nTest Product Auto - 123\\nAutomation Test Product - 123\\nSample Product - 20\\nSample Productsasa - 20\\nSample Productsasaw - 20\\nTest Product - 555\\nSample Productsasawsds - 20\\nSample Productsasawsdss - 20\\nTestProd - 111\\nuser_1761637503730 - 10\\nuser_1761637716208 - 10\\nuser_1761637863905 - 10\\nuser_1761637930562 - 10\\nuser_1761638348265 - 10\\nuser_1761638544729 - 10\\nuser_1761638738143 - 10\\nuser_1761638937202 - 10\\nuser_1761639028345 - 10\\nuser_1761639096651 - 10\\nuser_1761639881893 - 10\\nuser_1761639923799 - 10\\nuser_1761639965887 - 10\\naman - 14520\\nMobile Phones - 10\\nBrown jacket - 200\\nNew Product - 10\\nWhite t-shirts - 10\\nМишка - 1230'"
      ]
     },
     "execution_count": 25,
     "metadata": {},
     "output_type": "execute_result"
    }
   ],
   "source": [
    "get_products.invoke({\"price\": 10})"
   ]
  }
 ],
 "metadata": {
  "kernelspec": {
   "display_name": ".venv",
   "language": "python",
   "name": "python3"
  },
  "language_info": {
   "codemirror_mode": {
    "name": "ipython",
    "version": 3
   },
   "file_extension": ".py",
   "mimetype": "text/x-python",
   "name": "python",
   "nbconvert_exporter": "python",
   "pygments_lexer": "ipython3",
   "version": "3.11.14"
  }
 },
 "nbformat": 4,
 "nbformat_minor": 5
}
