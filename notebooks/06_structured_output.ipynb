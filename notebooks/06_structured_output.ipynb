{
 "cells": [
  {
   "cell_type": "code",
   "execution_count": 1,
   "id": "ddddb931",
   "metadata": {},
   "outputs": [
    {
     "data": {
      "text/plain": [
       "True"
      ]
     },
     "execution_count": 1,
     "metadata": {},
     "output_type": "execute_result"
    }
   ],
   "source": [
    "from dotenv import load_dotenv\n",
    "\n",
    "load_dotenv()"
   ]
  },
  {
   "cell_type": "code",
   "execution_count": 2,
   "id": "3bf19591",
   "metadata": {},
   "outputs": [
    {
     "name": "stderr",
     "output_type": "stream",
     "text": [
      "WARNING: All log messages before absl::InitializeLog() is called are written to STDERR\n",
      "E0000 00:00:1761307375.730493    2103 alts_credentials.cc:93] ALTS creds ignored. Not running on GCP and untrusted ALTS is not enabled.\n"
     ]
    },
    {
     "name": "stdout",
     "output_type": "stream",
     "text": [
      "==================================\u001b[1m Ai Message \u001b[0m==================================\n",
      "\n",
      "Hola Danniel, gracias por compartir tu nombre y número de teléfono.\n",
      "\n",
      "Entendido, Danniel Navas, y tu teléfono es 3123123123.\n",
      "\n",
      "¿Hay algo específico en lo que pueda ayudarte con esta información, o alguna pregunta que tengas?\n"
     ]
    }
   ],
   "source": [
    "from langchain.chat_models import init_chat_model\n",
    "\n",
    "llm = init_chat_model(\n",
    "    \"gemini-2.5-flash\",\n",
    "    model_provider=\"google_genai\",\n",
    "    temperature=0,\n",
    ")\n",
    "\n",
    "response = llm.invoke('Hola soy Danniel Navas y mi telefono es 3123123123')\n",
    "\n",
    "response.pretty_print()\n"
   ]
  },
  {
   "cell_type": "code",
   "execution_count": 6,
   "id": "3c6db08f",
   "metadata": {},
   "outputs": [
    {
     "data": {
      "text/plain": [
       "'Danniel Navas'"
      ]
     },
     "execution_count": 6,
     "metadata": {},
     "output_type": "execute_result"
    }
   ],
   "source": [
    "from pydantic import BaseModel, Field\n",
    "\n",
    "class ContactInfo(BaseModel):\n",
    "    \"\"\" Contact information for a person \"\"\"\n",
    "    name: str = Field(description=\"The name of the person\")\n",
    "    email: str = Field(description=\"The email of the person\")\n",
    "    phone: str = Field(description=\"The phone number of the person\")\n",
    "    tone: int = Field(description=\"The tone of the person\", ge=0, le=100)\n",
    "    age: int = Field(description=\"The age of the person\")\n",
    "    sentiment: str = Field(description=\"The sentiment conversation of the person\")\n",
    "    country: str = Field(description=\"The country of the person\")\n",
    "\n",
    "llm_whith_structured_output = llm.with_structured_output(schema=ContactInfo)\n",
    "\n",
    "messages = [\n",
    "    (\"system\", \"You are a helpful assistant that extracts information from a conversation\"),\n",
    "    (\"user\", \"Hola soy Danniel Navas y mi telefono es +57 3123123123\")\n",
    "]\n",
    "\n",
    "response = llm_whith_structured_output.invoke(messages)\n",
    "response\n",
    "response.name\n"
   ]
  }
 ],
 "metadata": {
  "kernelspec": {
   "display_name": ".venv",
   "language": "python",
   "name": "python3"
  },
  "language_info": {
   "codemirror_mode": {
    "name": "ipython",
    "version": 3
   },
   "file_extension": ".py",
   "mimetype": "text/x-python",
   "name": "python",
   "nbconvert_exporter": "python",
   "pygments_lexer": "ipython3",
   "version": "3.11.14"
  }
 },
 "nbformat": 4,
 "nbformat_minor": 5
}
